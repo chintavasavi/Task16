{
 "cells": [
  {
   "cell_type": "markdown",
   "id": "71fd1e17",
   "metadata": {},
   "source": [
    "ask 1:\n",
    "\n",
    "Load the file 'about_python.txt'into your jupyter notebook. a. Correct wrong statements about python fatures b. How many charactaers present in the data c. How many times 'Python' word is repeated. d. after correcting all ..print complete valid features of the python."
   ]
  },
  {
   "cell_type": "code",
   "execution_count": 3,
   "id": "f8fde5a1",
   "metadata": {},
   "outputs": [],
   "source": [
    "file = open(\"C:\\\\Users\\\\praha\\\\OneDrive\\\\Desktop\\\\about_python.txt\")"
   ]
  },
  {
   "cell_type": "code",
   "execution_count": 4,
   "id": "cb3eecb4",
   "metadata": {},
   "outputs": [],
   "source": [
    "string_val = file.read()"
   ]
  },
  {
   "cell_type": "code",
   "execution_count": 5,
   "id": "339bb714",
   "metadata": {},
   "outputs": [],
   "source": [
    "var1 = string_val.replace(\"compiled\",\"interpreted\")\n",
    "var2 = var1.replace(\"paid\",\"open source\") \n",
    "var3 = var2.replace(\"third-party libraries\",\"Machine learning\")\n",
    "var4 = var3.replace(\"statically\", \"dynamically\")\n",
    "var5 = var4.replace(\"web development\",\"websites and software\")\n",
    "var6 = var5.replace(\"Elon Musk\",\"Guido van Rossum\")"
   ]
  },
  {
   "cell_type": "code",
   "execution_count": 6,
   "id": "36c6601c",
   "metadata": {},
   "outputs": [
    {
     "name": "stdout",
     "output_type": "stream",
     "text": [
      "Python supports object-oriented programming (OOP) concepts.\n",
      "Python is a interpreted language.\n",
      "Python has a rich ecosystem of Machine learning.\n",
      "Python is a open source programming language\n",
      "Python uses indentation for code block structuring.\n",
      "Python is dynamically Typed Language\n",
      "Python only supports double quotes for string literals.\n",
      "Python can only be used for websites and software.\n",
      "Python was created by Guido van Rossum.\n"
     ]
    }
   ],
   "source": [
    "print(var6)"
   ]
  },
  {
   "cell_type": "code",
   "execution_count": 7,
   "id": "89411a7e",
   "metadata": {},
   "outputs": [
    {
     "data": {
      "text/plain": [
       "404"
      ]
     },
     "execution_count": 7,
     "metadata": {},
     "output_type": "execute_result"
    }
   ],
   "source": [
    "len(string_val)"
   ]
  },
  {
   "cell_type": "code",
   "execution_count": 8,
   "id": "672fba5f",
   "metadata": {},
   "outputs": [],
   "source": [
    "file.close()"
   ]
  },
  {
   "cell_type": "code",
   "execution_count": 9,
   "id": "6b304867",
   "metadata": {},
   "outputs": [
    {
     "data": {
      "text/plain": [
       "9"
      ]
     },
     "execution_count": 9,
     "metadata": {},
     "output_type": "execute_result"
    }
   ],
   "source": [
    "string_val.count(\"Python\")"
   ]
  },
  {
   "cell_type": "markdown",
   "id": "fca2bda7",
   "metadata": {},
   "source": [
    "Task2:\n",
    "Create a file 'File.txt'which expalains python file handling whatever you have learnt today(creating,reading,wring and appending...etc) in detail.That reaload the saved file(i.e File.txt) to jupyter notebook."
   ]
  },
  {
   "cell_type": "code",
   "execution_count": 3,
   "id": "31022ae3",
   "metadata": {},
   "outputs": [],
   "source": [
    "f = open(\"File.txt\",'w')   "
   ]
  },
  {
   "cell_type": "code",
   "execution_count": 4,
   "id": "c83750b8",
   "metadata": {},
   "outputs": [
    {
     "data": {
      "text/plain": [
       "421"
      ]
     },
     "execution_count": 4,
     "metadata": {},
     "output_type": "execute_result"
    }
   ],
   "source": [
    "f.write(\"File handling\\nFile handling helps to Create, Write, Read, append a file\\nCreate:\\nIt creates a new file and if we given any existing file name then it shows error\\nWrite:\\nBy using this we can add text to the file. If the file name is new then it creates the file, if not it over writes the text in the old file\\nRead:\\nIt is used to read the contents present in the file\\nAppend:\\nit is used to add the data to the existing file\")"
   ]
  },
  {
   "cell_type": "code",
   "execution_count": 5,
   "id": "16c17096",
   "metadata": {},
   "outputs": [],
   "source": [
    "f.close()"
   ]
  },
  {
   "cell_type": "code",
   "execution_count": 3,
   "id": "38a0c847",
   "metadata": {},
   "outputs": [],
   "source": [
    "f = open(\"File.txt\",'r')   "
   ]
  },
  {
   "cell_type": "code",
   "execution_count": 4,
   "id": "67126b36",
   "metadata": {},
   "outputs": [
    {
     "name": "stdout",
     "output_type": "stream",
     "text": [
      "File handling\n",
      "File handling helps to Create, Write, Read, append a file\n",
      "Create:\n",
      "It creates a new file and if we given any existing file name then it shows error\n",
      "Write:\n",
      "By using this we can add text to the file. If the file name is new then it creates the file, if not it over writes the text in the old file\n",
      "Read:\n",
      "It is used to read the contents present in the file\n",
      "Append:\n",
      "it is used to add the data to the existing file\n"
     ]
    }
   ],
   "source": [
    "print(f.read())"
   ]
  },
  {
   "cell_type": "code",
   "execution_count": 9,
   "id": "7c43fe25",
   "metadata": {},
   "outputs": [],
   "source": [
    "f.close()"
   ]
  },
  {
   "cell_type": "code",
   "execution_count": 7,
   "id": "1c4b0853",
   "metadata": {},
   "outputs": [],
   "source": [
    "f = open('File.txt','a')  "
   ]
  },
  {
   "cell_type": "code",
   "execution_count": 8,
   "id": "92fef463",
   "metadata": {},
   "outputs": [
    {
     "data": {
      "text/plain": [
       "421"
      ]
     },
     "execution_count": 8,
     "metadata": {},
     "output_type": "execute_result"
    }
   ],
   "source": [
    "f.write(\"File handling\\nFile handling helps to Create, Write, Read, append a file\\nCreate:\\nIt creates a new file and if we given any existing file name then it shows error\\nWrite:\\nBy using this we can add text to the file. If the file name is new then it creates the file, if not it over writes the text in the old file\\nRead:\\nIt is used to read the contents present in the file\\nAppend:\\nit is used to add the data to the existing file\")"
   ]
  },
  {
   "cell_type": "code",
   "execution_count": null,
   "id": "b0e553bb",
   "metadata": {},
   "outputs": [],
   "source": [
    "f.close()"
   ]
  }
 ],
 "metadata": {
  "kernelspec": {
   "display_name": "Python 3 (ipykernel)",
   "language": "python",
   "name": "python3"
  },
  "language_info": {
   "codemirror_mode": {
    "name": "ipython",
    "version": 3
   },
   "file_extension": ".py",
   "mimetype": "text/x-python",
   "name": "python",
   "nbconvert_exporter": "python",
   "pygments_lexer": "ipython3",
   "version": "3.11.4"
  }
 },
 "nbformat": 4,
 "nbformat_minor": 5
}
